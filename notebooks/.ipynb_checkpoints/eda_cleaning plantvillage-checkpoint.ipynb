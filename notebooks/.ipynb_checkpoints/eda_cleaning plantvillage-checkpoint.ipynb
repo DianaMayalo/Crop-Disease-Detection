{
 "cells": [
  {
   "cell_type": "markdown",
   "id": "93fee915",
   "metadata": {},
   "source": [
    "#  Plant Village Project - Crop Disease Detection & Insights\n",
    "\n",
    "Welcome to the Plant Village project! This notebook will guide our data science journey step by step, from dataset setup to model building and interpretation.\n",
    "\n",
    "---\n",
    "\n",
    "###  Project Objective:\n",
    "To build a classification model that can identify crop diseases from image data (or other features) and provide useful insights for farmers and agricultural support systems.\n",
    "\n",
    "---\n",
    "\n",
    "###  Step 1: Repository & Notebook Setup\n",
    "\n",
    "- We'll first initialize our project in a GitHub repository.\n",
    "- Then, we'll open this notebook and start preparing our dataset for analysis.\n"
   ]
  },
  {
   "cell_type": "code",
   "execution_count": null,
   "id": "47c208d6",
   "metadata": {},
   "outputs": [],
   "source": [
    "import os\n",
    "import pandas as pd\n",
    "import numpy as np\n",
    "import matplotlib.pyplot as plt\n",
    "import seaborn as sns\n",
    "from PIL import Image\n",
    "import cv2\n",
    "import random\n"
   ]
  },
  {
   "cell_type": "code",
   "execution_count": null,
   "id": "f81c8190",
   "metadata": {},
   "outputs": [],
   "source": []
  }
 ],
 "metadata": {
  "kernelspec": {
   "display_name": "Python 3 (ipykernel)",
   "language": "python",
   "name": "python3"
  },
  "language_info": {
   "codemirror_mode": {
    "name": "ipython",
    "version": 3
   },
   "file_extension": ".py",
   "mimetype": "text/x-python",
   "name": "python",
   "nbconvert_exporter": "python",
   "pygments_lexer": "ipython3",
   "version": "3.10.18"
  }
 },
 "nbformat": 4,
 "nbformat_minor": 5
}
