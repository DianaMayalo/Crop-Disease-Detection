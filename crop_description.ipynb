{
 "cells": [
  {
   "cell_type": "code",
   "execution_count": 1,
   "metadata": {
    "executionInfo": {
     "elapsed": 35,
     "status": "ok",
     "timestamp": 1752526690391,
     "user": {
      "displayName": "Anthony Chege",
      "userId": "08778401318821371665"
     },
     "user_tz": -180
    },
    "id": "XPaCB-UA9yPA"
   },
   "outputs": [],
   "source": [
    "import random\n",
    "import pandas as pd"
   ]
  },
  {
   "cell_type": "code",
   "execution_count": 2,
   "metadata": {
    "executionInfo": {
     "elapsed": 85,
     "status": "ok",
     "timestamp": 1752526690487,
     "user": {
      "displayName": "Anthony Chege",
      "userId": "08778401318821371665"
     },
     "user_tz": -180
    },
    "id": "ghXLzTRA-Llh"
   },
   "outputs": [],
   "source": [
    "# disease list\n",
    "diseases = [\n",
    "    'Pepper_bell___Bacterial_spot',\n",
    "    'Pepper_bell___healthy',\n",
    "    'Potato___Early_blight',\n",
    "    'Potato___Late_blight',\n",
    "    'Potato___healthy',\n",
    "    'Tomato___Bacterial_spot',\n",
    "    'Tomato___Early_blight',\n",
    "    'Tomato___Late_blight',\n",
    "    'Tomato___Leaf_Mold',\n",
    "    'Tomato___Septoria_leaf_spot',\n",
    "    'Tomato___Spider_mites Two-spotted_spider_mite',\n",
    "    'Tomato___Target_Spot',\n",
    "    'Tomato___Tomato_Yellow_Leaf_Curl_Virus',\n",
    "    'Tomato___Tomato_mosaic_virus',\n",
    "    'Tomato___healthy'\n",
    "]\n"
   ]
  },
  {
   "cell_type": "code",
   "execution_count": 3,
   "metadata": {
    "executionInfo": {
     "elapsed": 50,
     "status": "ok",
     "timestamp": 1752526690495,
     "user": {
      "displayName": "Anthony Chege",
      "userId": "08778401318821371665"
     },
     "user_tz": -180
    },
    "id": "l4oPAbw7-mh7"
   },
   "outputs": [],
   "source": [
    "# Crop and disease name list\n",
    "plants = []\n",
    "disease_names = []\n",
    "status_list = []\n",
    "\n",
    "for item in diseases:\n",
    "    parts = item.split('___')\n",
    "    crop = parts[0]\n",
    "    disease = parts[1]\n",
    "\n",
    "    if disease == 'healthy':\n",
    "        status_value = 'Healthy'\n",
    "    else:\n",
    "        status_value = 'Unhealthy'\n",
    "\n",
    "    plants.append(crop)\n",
    "    disease_names.append(disease)\n",
    "    status_list.append(status_value)\n"
   ]
  },
  {
   "cell_type": "code",
   "execution_count": 4,
   "metadata": {
    "colab": {
     "base_uri": "https://localhost:8080/"
    },
    "executionInfo": {
     "elapsed": 51,
     "status": "ok",
     "timestamp": 1752526690506,
     "user": {
      "displayName": "Anthony Chege",
      "userId": "08778401318821371665"
     },
     "user_tz": -180
    },
    "id": "d4nAfQr3_sFj",
    "outputId": "67124359-d5e3-46cd-c565-fadf73f27c59"
   },
   "outputs": [
    {
     "name": "stdout",
     "output_type": "stream",
     "text": [
      "Crop: Pepper_bell | Disease: Bacterial_spot | Status: Unhealthy\n",
      "Crop: Pepper_bell | Disease: healthy | Status: Healthy\n",
      "Crop: Potato | Disease: Early_blight | Status: Unhealthy\n",
      "Crop: Potato | Disease: Late_blight | Status: Unhealthy\n",
      "Crop: Potato | Disease: healthy | Status: Healthy\n",
      "Crop: Tomato | Disease: Bacterial_spot | Status: Unhealthy\n",
      "Crop: Tomato | Disease: Early_blight | Status: Unhealthy\n",
      "Crop: Tomato | Disease: Late_blight | Status: Unhealthy\n",
      "Crop: Tomato | Disease: Leaf_Mold | Status: Unhealthy\n",
      "Crop: Tomato | Disease: Septoria_leaf_spot | Status: Unhealthy\n",
      "Crop: Tomato | Disease: Spider_mites Two-spotted_spider_mite | Status: Unhealthy\n",
      "Crop: Tomato | Disease: Target_Spot | Status: Unhealthy\n",
      "Crop: Tomato | Disease: Tomato_Yellow_Leaf_Curl_Virus | Status: Unhealthy\n",
      "Crop: Tomato | Disease: Tomato_mosaic_virus | Status: Unhealthy\n",
      "Crop: Tomato | Disease: healthy | Status: Healthy\n"
     ]
    }
   ],
   "source": [
    "# Save them in a dictionary\n",
    "for i in range(len(diseases)):\n",
    "    print(f\"Crop: {plants[i]} | Disease: {disease_names[i]} | Status: {status_list[i]}\")\n"
   ]
  },
  {
   "cell_type": "code",
   "execution_count": 5,
   "metadata": {
    "executionInfo": {
     "elapsed": 33,
     "status": "ok",
     "timestamp": 1752526690509,
     "user": {
      "displayName": "Anthony Chege",
      "userId": "08778401318821371665"
     },
     "user_tz": -180
    },
    "id": "0DBH6ZInt4V9"
   },
   "outputs": [],
   "source": [
    "adjectives = [\n",
    "    \"slight\", \"moderate\", \"severe\", \"sudden\",\n",
    "    \"rapid\", \"visible\", \"notable\", \"clear\",\n",
    "    \"extensive\", \"sporadic\"\n",
    "]\n",
    "\n",
    "prefixes = [\n",
    "    \"\",\n",
    "    \"Farmer reports:\",\n",
    "    \"Field observation shows:\",\n",
    "    \"Inspection reveals:\",\n",
    "    \"According to the grower:\",\n",
    "    \"Agronomist notes:\",\n",
    "    \"Farmer complains:\",\n",
    "    \"Visual check indicates:\"\n",
    "]"
   ]
  },
  {
   "cell_type": "code",
   "execution_count": 6,
   "metadata": {
    "executionInfo": {
     "elapsed": 57,
     "status": "ok",
     "timestamp": 1752526690569,
     "user": {
      "displayName": "Anthony Chege",
      "userId": "08778401318821371665"
     },
     "user_tz": -180
    },
    "id": "pOWysoOJT4w-"
   },
   "outputs": [],
   "source": [
    "symptoms_dict = {\n",
    "    # Pepper\n",
    "    \"Pepper_bell___Bacterial_spot\": [\n",
    "        \"Tiny dark spots appear on young leaves.\",\n",
    "        \"Lesions become angular and water-soaked.\",\n",
    "        \"Leaf edges turn brown and crack.\",\n",
    "        \"Spots sometimes merge into larger dead areas.\",\n",
    "        \"Infected fruit shows raised, scabby lesions.\",\n",
    "        \"Warm, wet weather increases disease spread.\",\n",
    "        \"Leaves develop yellow halos around spots.\",\n",
    "        \"Bacterial ooze may be visible under moist conditions.\",\n",
    "        \"New growth appears stunted and distorted.\",\n",
    "        \"Lower leaves drop prematurely.\"\n",
    "    ],\n",
    "    \"Pepper_bell___healthy\": [\n",
    "        \"Leaves look vibrant green with a smooth texture.\",\n",
    "        \"Stems appear firm and upright.\",\n",
    "        \"Fruits develop bright color and firm walls.\",\n",
    "        \"No visible blemishes on leaves or stems.\",\n",
    "        \"Plant canopy is full and evenly spaced.\",\n",
    "        \"Growth appears vigorous and balanced.\",\n",
    "        \"No unusual wilting or curling of leaves.\",\n",
    "        \"Surfaces remain free of lesions or mold.\",\n",
    "        \"Fruit set appears normal and healthy.\",\n",
    "        \"Overall appearance is robust and lush.\"\n",
    "    ],\n",
    "\n",
    "    # Potato\n",
    "    \"Potato___Early_blight\": [\n",
    "        \"Small dark spots develop with concentric rings.\",\n",
    "        \"Leaves yellow around brown lesions.\",\n",
    "        \"Older leaves are the first to show symptoms.\",\n",
    "        \"Lesions enlarge during warm, humid weather.\",\n",
    "        \"Severe cases cause significant leaf loss.\",\n",
    "        \"Foliage appears scorched and curled.\",\n",
    "        \"Brown patches coalesce into larger necrotic areas.\",\n",
    "        \"Lower leaves drop prematurely under stress.\",\n",
    "        \"Dark spots sometimes appear on stems.\",\n",
    "        \"Affected plants exhibit reduced tuber size.\"\n",
    "    ],\n",
    "    \"Potato___Late_blight\": [\n",
    "        \"Large brown blotches develop rapidly on leaves.\",\n",
    "        \"Edges of lesions appear water-soaked and greasy.\",\n",
    "        \"White fungal growth may appear under humid conditions.\",\n",
    "        \"Infected tubers show dark, firm patches beneath the skin.\",\n",
    "        \"Lesions spread quickly under cool, wet weather.\",\n",
    "        \"Leaves become limp and collapse suddenly.\",\n",
    "        \"Blight odor is noticeable in severe infections.\",\n",
    "        \"New leaves become infected almost overnight.\",\n",
    "        \"Stems show brown streaks near soil level.\",\n",
    "        \"Whole fields can appear scorched and dead.\"\n",
    "    ],\n",
    "    \"Potato___healthy\": [\n",
    "        \"Leaves are lush green with no visible spots.\",\n",
    "        \"Plants maintain strong upright growth.\",\n",
    "        \"Tuber development appears uniform and healthy.\",\n",
    "        \"No signs of wilting or discoloration.\",\n",
    "        \"Leaf edges remain intact and smooth.\",\n",
    "        \"Stems are firm and unblemished.\",\n",
    "        \"Healthy foliage covers the soil evenly.\",\n",
    "        \"No unusual odor detected in the field.\",\n",
    "        \"Growth appears vigorous and steady.\",\n",
    "        \"Plants show no signs of stress or pests.\"\n",
    "    ],\n",
    "\n",
    "    # Tomato\n",
    "    \"Tomato___Bacterial_spot\": [\n",
    "        \"Tiny dark specks appear on young leaves.\",\n",
    "        \"Spots enlarge and develop yellow halos.\",\n",
    "        \"Lesions become raised and scabby on fruit.\",\n",
    "        \"Warm weather accelerates disease spread.\",\n",
    "        \"Leaf edges become ragged and torn.\",\n",
    "        \"Brown streaks may appear on stems.\",\n",
    "        \"Lower leaves drop early under stress.\",\n",
    "        \"Spots may merge into larger dead zones.\",\n",
    "        \"Infected fruit appears pitted and rough.\",\n",
    "        \"Plant growth becomes stunted and uneven.\"\n",
    "    ],\n",
    "    \"Tomato___Early_blight\": [\n",
    "        \"Dark concentric rings form on lower leaves.\",\n",
    "        \"Yellowing appears around brown lesions.\",\n",
    "        \"Older leaves show symptoms first.\",\n",
    "        \"Leaves drop prematurely under stress.\",\n",
    "        \"Spots expand during warm, humid weather.\",\n",
    "        \"Stems may show sunken brown streaks.\",\n",
    "        \"Fruits develop sunken, leathery patches.\",\n",
    "        \"Overall growth appears stunted.\",\n",
    "        \"Leaf edges appear scorched and curled.\",\n",
    "        \"Plant vigor decreases over time.\"\n",
    "    ],\n",
    "    \"Tomato___Late_blight\": [\n",
    "        \"Large irregular brown patches appear on leaves.\",\n",
    "        \"Edges of lesions look water-soaked.\",\n",
    "        \"White mold may appear on leaf undersides.\",\n",
    "        \"Fruits develop firm dark lesions with greasy texture.\",\n",
    "        \"Cool, moist weather promotes rapid spread.\",\n",
    "        \"Leaves collapse suddenly without warning.\",\n",
    "        \"Stems turn brown and brittle.\",\n",
    "        \"Infected areas emit a musty odor.\",\n",
    "        \"Whole plants may wilt overnight.\",\n",
    "        \"Fruit rot occurs quickly after infection.\"\n",
    "    ],\n",
    "    \"Tomato___Leaf_Mold\": [\n",
    "        \"Yellow patches appear on upper leaf surfaces.\",\n",
    "        \"Undersides develop fuzzy white or olive mold.\",\n",
    "        \"Leaves curl and become brittle.\",\n",
    "        \"Disease thrives in high humidity and poor airflow.\",\n",
    "        \"Lower leaves are affected first.\",\n",
    "        \"Plant growth slows noticeably.\",\n",
    "        \"Leaves develop a musty odor.\",\n",
    "        \"Lesions merge into large yellow areas.\",\n",
    "        \"Edges of leaves become brown and dry.\",\n",
    "        \"Fruit development may be reduced.\"\n",
    "    ],\n",
    "    \"Tomato___Septoria_leaf_spot\": [\n",
    "        \"Tiny dark specks appear with pale centers.\",\n",
    "        \"Yellow halos surround each small lesion.\",\n",
    "        \"Spots increase rapidly in wet conditions.\",\n",
    "        \"Lower leaves drop early in the season.\",\n",
    "        \"Leaves become thin and sparse.\",\n",
    "        \"Growth appears patchy across the field.\",\n",
    "        \"Stems remain largely unaffected.\",\n",
    "        \"Severe infections reduce fruit yield.\",\n",
    "        \"Plants look generally stressed.\",\n",
    "        \"Spots remain less than ⅛ inch in diameter.\"\n",
    "    ],\n",
    "    \"Tomato___Spider_mites_Two_spotted_spider_mite\": [\n",
    "        \"Leaves appear stippled with pale spots.\",\n",
    "        \"Webbing may be visible between leaves and stems.\",\n",
    "        \"Leaves turn bronze and curl under.\",\n",
    "        \"Mites thrive in hot, dry conditions.\",\n",
    "        \"Infestation begins on lower leaves.\",\n",
    "        \"Plant vigor declines noticeably.\",\n",
    "        \"Leaf surfaces feel dry and rough.\",\n",
    "        \"Fruit development may be stunted.\",\n",
    "        \"Infested leaves drop prematurely.\",\n",
    "        \"Fine yellow dust may be visible on foliage.\"\n",
    "    ],\n",
    "    \"Tomato___Target_Spot\": [\n",
    "        \"Small dark lesions appear on the lower leaves.\",\n",
    "        \"Spots develop yellow halos as they expand.\",\n",
    "        \"Leaves show circular or irregular necrotic areas.\",\n",
    "        \"Lesions coalesce into large blighted zones.\",\n",
    "        \"The affected areas appear sunken and dry.\",\n",
    "        \"Spots are more prominent under humid conditions.\",\n",
    "        \"Severe infections lead to premature leaf drop.\",\n",
    "        \"Fruits show dark specks near the stem end.\",\n",
    "        \"Leaves look scorched or burnt at the edges.\",\n",
    "        \"Growth appears stunted with patchy foliage.\"\n",
    "    ],\n",
    "    \"Tomato___Tomato_YellowLeaf_Curl_Virus\": [\n",
    "        \"Young leaves curl upward and turn yellow.\",\n",
    "        \"Growth becomes stunted and bushy.\",\n",
    "        \"Leaves appear crumpled and thickened.\",\n",
    "        \"Internodes shorten dramatically.\",\n",
    "        \"Flowers often drop without fruit setting.\",\n",
    "        \"Overall plant appears dwarfed.\",\n",
    "        \"Veins become thick and prominent.\",\n",
    "        \"Leaf edges show bright yellow coloring.\",\n",
    "        \"Fruit production decreases sharply.\",\n",
    "        \"Virus spreads via whiteflies rapidly.\"\n",
    "    ],\n",
    "    \"Tomato___Tomato_mosaic_virus\": [\n",
    "        \"Leaves display mottled light and dark green patches.\",\n",
    "        \"Growth appears stunted and twisted.\",\n",
    "        \"Leaflets may become fern-like and narrow.\",\n",
    "        \"Fruits develop uneven ripening.\",\n",
    "        \"Overall plant vigor decreases.\",\n",
    "        \"Symptoms worsen under high light conditions.\",\n",
    "        \"Flower formation may be reduced.\",\n",
    "        \"Fruits show irregular color patterns.\",\n",
    "        \"Leaves may appear leathery.\",\n",
    "        \"Virus spreads easily through plant contact.\"\n",
    "    ],\n",
    "    \"Tomato___healthy\": [\n",
    "        \"Leaves look lush green with a glossy surface.\",\n",
    "        \"Plant stands tall and vigorous.\",\n",
    "        \"Fruits develop evenly with no blemishes.\",\n",
    "        \"No sign of curling or wilting.\",\n",
    "        \"Stems remain firm and robust.\",\n",
    "        \"No spots or discoloration on leaves.\",\n",
    "        \"Flowers appear healthy and plentiful.\",\n",
    "        \"Fruit clusters are well-formed.\",\n",
    "        \"Overall growth is steady and balanced.\",\n",
    "        \"Plants appear free from any pests or diseases.\"\n",
    "    ],\n",
    "}"
   ]
  },
  {
   "cell_type": "code",
   "execution_count": 7,
   "metadata": {
    "executionInfo": {
     "elapsed": 34,
     "status": "ok",
     "timestamp": 1752526690611,
     "user": {
      "displayName": "Anthony Chege",
      "userId": "08778401318821371665"
     },
     "user_tz": -180
    },
    "id": "87ZSFX5KaL1l"
   },
   "outputs": [],
   "source": [
    "# Pesticide Dict\n",
    "pesticide_dict = {}\n",
    "for disease in symptoms_dict:\n",
    "    if \"healthy\" in disease:\n",
    "        pesticide_dict[disease] = \"None\"\n",
    "    else:\n",
    "        pesticide_dict[disease] = random.choice([\n",
    "            \"Neem oil\", \"Copper-based fungicide\",\n",
    "            \"Bacillus subtilis\", \"Sulfur spray\",\n",
    "            \"Horticultural oil\", \"Biological predators\"\n",
    "        ])"
   ]
  },
  {
   "cell_type": "code",
   "execution_count": 8,
   "metadata": {
    "executionInfo": {
     "elapsed": 14,
     "status": "ok",
     "timestamp": 1752526690619,
     "user": {
      "displayName": "Anthony Chege",
      "userId": "08778401318821371665"
     },
     "user_tz": -180
    },
    "id": "aU75Bi5FnLbu"
   },
   "outputs": [],
   "source": [
    "# Generating synthetic data rows\n",
    "def generate_row():\n",
    "    key = random.choice(list(symptoms_dict.keys()))\n",
    "    crop, disease = key.split(\"___\")\n",
    "\n",
    "    status = \"Healthy\" if disease == \"healthy\" else \"Unhealthy\"\n",
    "\n",
    "    symptoms = symptoms_dict[key]\n",
    "    num_sentences = random.choice([1, 2, 3])\n",
    "    chosen_symptoms = random.sample(symptoms, k=min(num_sentences, len(symptoms)))\n",
    "\n",
    "    # add adjectives\n",
    "    modified_symptoms = [\n",
    "        f\"{random.choice(adjectives)} {sentence}\" for sentence in chosen_symptoms\n",
    "    ]\n",
    "\n",
    "    description = \" \".join(modified_symptoms)\n",
    "\n",
    "    # add prefix\n",
    "    description = f\"{random.choice(prefixes)} {description}\".strip()\n",
    "\n",
    "    pesticide = pesticide_dict[key]\n",
    "\n",
    "    row = {\n",
    "        \"description\": description,\n",
    "        \"crop\": crop,\n",
    "        \"status\": status,\n",
    "        \"disease\": disease,\n",
    "        \"recommended_pesticide\": pesticide\n",
    "    }\n",
    "\n",
    "    return row"
   ]
  },
  {
   "cell_type": "code",
   "execution_count": 9,
   "metadata": {
    "colab": {
     "base_uri": "https://localhost:8080/",
     "height": 206
    },
    "executionInfo": {
     "elapsed": 49,
     "status": "ok",
     "timestamp": 1752526690671,
     "user": {
      "displayName": "Anthony Chege",
      "userId": "08778401318821371665"
     },
     "user_tz": -180
    },
    "id": "o1h7jflwoNQt",
    "outputId": "9862589a-50d5-4c15-bddf-854a10f1504c"
   },
   "outputs": [
    {
     "data": {
      "text/html": [
       "<div>\n",
       "<style scoped>\n",
       "    .dataframe tbody tr th:only-of-type {\n",
       "        vertical-align: middle;\n",
       "    }\n",
       "\n",
       "    .dataframe tbody tr th {\n",
       "        vertical-align: top;\n",
       "    }\n",
       "\n",
       "    .dataframe thead th {\n",
       "        text-align: right;\n",
       "    }\n",
       "</style>\n",
       "<table border=\"1\" class=\"dataframe\">\n",
       "  <thead>\n",
       "    <tr style=\"text-align: right;\">\n",
       "      <th></th>\n",
       "      <th>description</th>\n",
       "      <th>crop</th>\n",
       "      <th>status</th>\n",
       "      <th>disease</th>\n",
       "      <th>recommended_pesticide</th>\n",
       "    </tr>\n",
       "  </thead>\n",
       "  <tbody>\n",
       "    <tr>\n",
       "      <th>0</th>\n",
       "      <td>Agronomist notes: severe Spots enlarge and dev...</td>\n",
       "      <td>Tomato</td>\n",
       "      <td>Unhealthy</td>\n",
       "      <td>Bacterial_spot</td>\n",
       "      <td>Neem oil</td>\n",
       "    </tr>\n",
       "    <tr>\n",
       "      <th>1</th>\n",
       "      <td>Agronomist notes: clear Leaves look lush green...</td>\n",
       "      <td>Tomato</td>\n",
       "      <td>Healthy</td>\n",
       "      <td>healthy</td>\n",
       "      <td>None</td>\n",
       "    </tr>\n",
       "    <tr>\n",
       "      <th>2</th>\n",
       "      <td>sudden Dark concentric rings form on lower lea...</td>\n",
       "      <td>Tomato</td>\n",
       "      <td>Unhealthy</td>\n",
       "      <td>Early_blight</td>\n",
       "      <td>Neem oil</td>\n",
       "    </tr>\n",
       "    <tr>\n",
       "      <th>3</th>\n",
       "      <td>Farmer reports: extensive Plant canopy is full...</td>\n",
       "      <td>Pepper_bell</td>\n",
       "      <td>Healthy</td>\n",
       "      <td>healthy</td>\n",
       "      <td>None</td>\n",
       "    </tr>\n",
       "    <tr>\n",
       "      <th>4</th>\n",
       "      <td>Agronomist notes: slight Infested leaves drop ...</td>\n",
       "      <td>Tomato</td>\n",
       "      <td>Unhealthy</td>\n",
       "      <td>Spider_mites_Two_spotted_spider_mite</td>\n",
       "      <td>Biological predators</td>\n",
       "    </tr>\n",
       "  </tbody>\n",
       "</table>\n",
       "</div>"
      ],
      "text/plain": [
       "                                         description         crop     status  \\\n",
       "0  Agronomist notes: severe Spots enlarge and dev...       Tomato  Unhealthy   \n",
       "1  Agronomist notes: clear Leaves look lush green...       Tomato    Healthy   \n",
       "2  sudden Dark concentric rings form on lower lea...       Tomato  Unhealthy   \n",
       "3  Farmer reports: extensive Plant canopy is full...  Pepper_bell    Healthy   \n",
       "4  Agronomist notes: slight Infested leaves drop ...       Tomato  Unhealthy   \n",
       "\n",
       "                                disease recommended_pesticide  \n",
       "0                        Bacterial_spot              Neem oil  \n",
       "1                               healthy                  None  \n",
       "2                          Early_blight              Neem oil  \n",
       "3                               healthy                  None  \n",
       "4  Spider_mites_Two_spotted_spider_mite  Biological predators  "
      ]
     },
     "execution_count": 9,
     "metadata": {},
     "output_type": "execute_result"
    }
   ],
   "source": [
    "rows = [generate_row() for _ in range(1750)]\n",
    "df = pd.DataFrame(rows)\n",
    "df.head()"
   ]
  },
  {
   "cell_type": "code",
   "execution_count": 10,
   "metadata": {
    "colab": {
     "base_uri": "https://localhost:8080/",
     "height": 206
    },
    "executionInfo": {
     "elapsed": 40,
     "status": "ok",
     "timestamp": 1752526690716,
     "user": {
      "displayName": "Anthony Chege",
      "userId": "08778401318821371665"
     },
     "user_tz": -180
    },
    "id": "G-cH23mIqmid",
    "outputId": "b782b626-c2a6-4ca5-ae10-34e9960dabf6"
   },
   "outputs": [
    {
     "data": {
      "text/html": [
       "<div>\n",
       "<style scoped>\n",
       "    .dataframe tbody tr th:only-of-type {\n",
       "        vertical-align: middle;\n",
       "    }\n",
       "\n",
       "    .dataframe tbody tr th {\n",
       "        vertical-align: top;\n",
       "    }\n",
       "\n",
       "    .dataframe thead th {\n",
       "        text-align: right;\n",
       "    }\n",
       "</style>\n",
       "<table border=\"1\" class=\"dataframe\">\n",
       "  <thead>\n",
       "    <tr style=\"text-align: right;\">\n",
       "      <th></th>\n",
       "      <th>description</th>\n",
       "      <th>crop</th>\n",
       "      <th>status</th>\n",
       "      <th>disease</th>\n",
       "      <th>recommended_pesticide</th>\n",
       "    </tr>\n",
       "  </thead>\n",
       "  <tbody>\n",
       "    <tr>\n",
       "      <th>1745</th>\n",
       "      <td>Farmer complains: visible Lesions become raise...</td>\n",
       "      <td>Tomato</td>\n",
       "      <td>Unhealthy</td>\n",
       "      <td>Bacterial_spot</td>\n",
       "      <td>Neem oil</td>\n",
       "    </tr>\n",
       "    <tr>\n",
       "      <th>1746</th>\n",
       "      <td>Field observation shows: moderate Lesions beco...</td>\n",
       "      <td>Pepper_bell</td>\n",
       "      <td>Unhealthy</td>\n",
       "      <td>Bacterial_spot</td>\n",
       "      <td>Biological predators</td>\n",
       "    </tr>\n",
       "    <tr>\n",
       "      <th>1747</th>\n",
       "      <td>Inspection reveals: clear Infestation begins o...</td>\n",
       "      <td>Tomato</td>\n",
       "      <td>Unhealthy</td>\n",
       "      <td>Spider_mites_Two_spotted_spider_mite</td>\n",
       "      <td>Biological predators</td>\n",
       "    </tr>\n",
       "    <tr>\n",
       "      <th>1748</th>\n",
       "      <td>Inspection reveals: severe Stems appear firm a...</td>\n",
       "      <td>Pepper_bell</td>\n",
       "      <td>Healthy</td>\n",
       "      <td>healthy</td>\n",
       "      <td>None</td>\n",
       "    </tr>\n",
       "    <tr>\n",
       "      <th>1749</th>\n",
       "      <td>Farmer complains: clear Symptoms worsen under ...</td>\n",
       "      <td>Tomato</td>\n",
       "      <td>Unhealthy</td>\n",
       "      <td>Tomato_mosaic_virus</td>\n",
       "      <td>Bacillus subtilis</td>\n",
       "    </tr>\n",
       "  </tbody>\n",
       "</table>\n",
       "</div>"
      ],
      "text/plain": [
       "                                            description         crop  \\\n",
       "1745  Farmer complains: visible Lesions become raise...       Tomato   \n",
       "1746  Field observation shows: moderate Lesions beco...  Pepper_bell   \n",
       "1747  Inspection reveals: clear Infestation begins o...       Tomato   \n",
       "1748  Inspection reveals: severe Stems appear firm a...  Pepper_bell   \n",
       "1749  Farmer complains: clear Symptoms worsen under ...       Tomato   \n",
       "\n",
       "         status                               disease recommended_pesticide  \n",
       "1745  Unhealthy                        Bacterial_spot              Neem oil  \n",
       "1746  Unhealthy                        Bacterial_spot  Biological predators  \n",
       "1747  Unhealthy  Spider_mites_Two_spotted_spider_mite  Biological predators  \n",
       "1748    Healthy                               healthy                  None  \n",
       "1749  Unhealthy                   Tomato_mosaic_virus     Bacillus subtilis  "
      ]
     },
     "execution_count": 10,
     "metadata": {},
     "output_type": "execute_result"
    }
   ],
   "source": [
    "df.tail()"
   ]
  },
  {
   "cell_type": "code",
   "execution_count": 11,
   "metadata": {
    "colab": {
     "base_uri": "https://localhost:8080/"
    },
    "executionInfo": {
     "elapsed": 118,
     "status": "ok",
     "timestamp": 1752526690840,
     "user": {
      "displayName": "Anthony Chege",
      "userId": "08778401318821371665"
     },
     "user_tz": -180
    },
    "id": "oPwfm2E4qs79",
    "outputId": "3534513a-5260-4065-a53c-1c48bd80238f"
   },
   "outputs": [
    {
     "data": {
      "text/plain": [
       "15"
      ]
     },
     "execution_count": 11,
     "metadata": {},
     "output_type": "execute_result"
    }
   ],
   "source": [
    "df.duplicated().sum().sum()"
   ]
  },
  {
   "cell_type": "code",
   "execution_count": 12,
   "metadata": {
    "executionInfo": {
     "elapsed": 32,
     "status": "ok",
     "timestamp": 1752526813374,
     "user": {
      "displayName": "Anthony Chege",
      "userId": "08778401318821371665"
     },
     "user_tz": -180
    },
    "id": "4hdjMIM-rF0F"
   },
   "outputs": [],
   "source": [
    "# Save to csv file\n",
    "df.to_csv('synthetic_data.csv', index=False)"
   ]
  },
  {
   "cell_type": "code",
   "execution_count": 13,
   "metadata": {
    "id": "BJBIR2rpvPa-"
   },
   "outputs": [
    {
     "name": "stdout",
     "output_type": "stream",
     "text": [
      "Requirement already satisfied: joblib in c:\\users\\pinchezz\\anaconda3\\envs\\learn-env\\lib\\site-packages (1.5.1)\n"
     ]
    },
    {
     "data": {
      "text/plain": [
       "['pesticide_dict.pkl']"
      ]
     },
     "execution_count": 13,
     "metadata": {},
     "output_type": "execute_result"
    }
   ],
   "source": [
    "#Saving the Pesticide Dictonary\n",
    "!pip install joblib\n",
    "import joblib\n",
    "\n",
    "joblib.dump(pesticide_dict, \"pesticide_dict.pkl\")"
   ]
  },
  {
   "cell_type": "code",
   "execution_count": null,
   "metadata": {},
   "outputs": [],
   "source": []
  }
 ],
 "metadata": {
  "colab": {
   "authorship_tag": "ABX9TyNwDn3sLF+pd+XftYUozfzi",
   "provenance": []
  },
  "kernelspec": {
   "display_name": "Python (learn-env)",
   "language": "python",
   "name": "learn-env"
  },
  "language_info": {
   "codemirror_mode": {
    "name": "ipython",
    "version": 3
   },
   "file_extension": ".py",
   "mimetype": "text/x-python",
   "name": "python",
   "nbconvert_exporter": "python",
   "pygments_lexer": "ipython3",
   "version": "3.9.21"
  }
 },
 "nbformat": 4,
 "nbformat_minor": 4
}
